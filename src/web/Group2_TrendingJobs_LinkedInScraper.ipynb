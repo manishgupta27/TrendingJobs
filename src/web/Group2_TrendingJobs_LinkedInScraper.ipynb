{
 "cells": [
  {
   "cell_type": "code",
   "execution_count": 1,
   "metadata": {},
   "outputs": [],
   "source": [
    "#Install pre-requisite libraries/modules\n",
    "#!pip3 install parsel\n",
    "#!pip3 install selenium\n",
    "\n",
    "#Import required modules\n",
    "import os\n",
    "import sys\n",
    "import csv\n",
    "import time\n",
    "import pandas as pd\n",
    "import requests\n",
    "from parsel import Selector"
   ]
  },
  {
   "cell_type": "code",
   "execution_count": 2,
   "metadata": {},
   "outputs": [],
   "source": [
    "#Pre-requisites\n",
    "#Download ChromeDriver, which is a separate executable that WebDriver uses to control Chrome.\n",
    "#Google Chrome browser application is required."
   ]
  },
  {
   "cell_type": "code",
   "execution_count": 3,
   "metadata": {},
   "outputs": [],
   "source": [
    "#Import web driver\n",
    "from selenium import webdriver\n",
    "from selenium.webdriver.common.keys import Keys\n",
    "\n",
    "#Specify the path to the chromedriver.exe\n",
    "driver = webdriver.Chrome('C:\\\\Users\\\\ayush\\\\chromedriver')\n",
    "#Variable \"driver\" is an instance of Google Chrome, required to run the commands\n",
    "\n",
    "#driver.get method() navigates to the page given by the URL\n",
    "driver.get('https://www.linkedin.com')"
   ]
  },
  {
   "cell_type": "code",
   "execution_count": 4,
   "metadata": {},
   "outputs": [],
   "source": [
    "#Automate LinkedIn Login\n",
    "#Populate text forms on LinkedIn homepage"
   ]
  },
  {
   "cell_type": "code",
   "execution_count": null,
   "metadata": {},
   "outputs": [],
   "source": [
    "#Locate email form by_id\n",
    "username = driver.find_element_by_id('session_key')\n",
    "user = input(\"Enter Username: \")\n",
    "\n",
    "#send_keys() simulates key strokes\n",
    "username.send_keys(user)"
   ]
  },
  {
   "cell_type": "code",
   "execution_count": null,
   "metadata": {},
   "outputs": [],
   "source": [
    "#Locate password form by_id\n",
    "password = driver.find_element_by_id('session_password')\n",
    "passw = input(\"Enter Password: \")\n",
    "\n",
    "#send_keys() simulates key strokes\n",
    "password.send_keys(passw)"
   ]
  },
  {
   "cell_type": "code",
   "execution_count": 7,
   "metadata": {},
   "outputs": [],
   "source": [
    "#Locate submit button by_class_name\n",
    "log_in_button = driver.find_element_by_class_name('sign-in-form__submit-button')\n",
    "\n",
    "#.click() to mimic button click\n",
    "log_in_button.click()"
   ]
  },
  {
   "cell_type": "code",
   "execution_count": 8,
   "metadata": {},
   "outputs": [],
   "source": [
    "#Searching LinkedIn profiles on Google"
   ]
  },
  {
   "cell_type": "code",
   "execution_count": 9,
   "metadata": {},
   "outputs": [],
   "source": [
    "#Specify the path to the chromedriver.exe\n",
    "driver_google = webdriver.Chrome('C:\\\\Users\\\\ayush\\\\chromedriver')\n",
    "\n",
    "#driver.get method() navigates to the page given by the URL\n",
    "driver_google.get('https://www.google.com')"
   ]
  },
  {
   "cell_type": "code",
   "execution_count": 10,
   "metadata": {},
   "outputs": [],
   "source": [
    "#Locate search form by_name\n",
    "search_query = driver_google.find_element_by_name('q')\n",
    "\n",
    "#Search LinkedIn profiles with required skillset and location\n",
    "#send_keys() simulates the search text key strokes\n",
    "search_query.send_keys('site:linkedin.com/in/ AND \"python developer\" AND \"India\"')\n",
    "\n",
    "#.send_keys() simulates the return key\n",
    "#Returns 10 relevant LinkedIn profiles per page\n",
    "search_query.send_keys(Keys.RETURN)"
   ]
  },
  {
   "cell_type": "code",
   "execution_count": 11,
   "metadata": {
    "scrolled": true
   },
   "outputs": [
    {
     "data": {
      "text/plain": [
       "['https://in.linkedin.com/in/abinabrahamcs',\n",
       " 'https://in.linkedin.com/in/rahul-telgote-81812851',\n",
       " 'https://in.linkedin.com/in/sandeepsawant22',\n",
       " 'https://in.linkedin.com/in/chethan-p-418a981ba',\n",
       " 'https://in.linkedin.com/in/girnathburri',\n",
       " 'https://in.linkedin.com/in/satya-narayan-pardhi-056a5b152',\n",
       " 'https://in.linkedin.com/in/naveen-kumar-d-15710195',\n",
       " 'https://in.linkedin.com/in/chandan-urs-43922716a',\n",
       " 'https://in.linkedin.com/in/vishal-ghuge-4701b58b',\n",
       " 'https://in.linkedin.com/in/harshwardhan-shinde78']"
      ]
     },
     "execution_count": 11,
     "metadata": {},
     "output_type": "execute_result"
    }
   ],
   "source": [
    "#Locate URL by_class_name\n",
    "linkedin_urls_page = driver_google.find_elements_by_class_name('yuRUbf')\n",
    "#linkedin_urls_page[0].find_element_by_tag_name('a').get_attribute('href')\n",
    "\n",
    "#Extract the URLS in a list\n",
    "linkedin_urls = []\n",
    "for links in range(10):\n",
    "    linkedin_urls.append(linkedin_urls_page[links].find_element_by_tag_name('a').get_attribute('href'))\n",
    "linkedin_urls"
   ]
  },
  {
   "cell_type": "code",
   "execution_count": 12,
   "metadata": {
    "scrolled": true
   },
   "outputs": [],
   "source": [
    "#Create empty lists for required candidate attributes to be scraped\n",
    "Candidate_Name = []\n",
    "Job_Title = []\n",
    "Location = []\n",
    "Candidate_Profile = []\n",
    "\n",
    "\n",
    "#To iterate over each LinkedIn URL\n",
    "for linkedin_url in linkedin_urls:\n",
    "    profile = driver.get(linkedin_url) #get the profile URL\n",
    "    time.sleep(10) #10 second pause loading each URL\n",
    "    #profile_url = driver.current_url\n",
    "    pg_source = driver.page_source\n",
    "    sel = Selector(text=pg_source) #assigning the source code for the webpage to variable 'sel'\n",
    "    name = sel.xpath('//*[contains(concat( \" \", @class, \" \" ), concat( \" \", \"v-align-middle\", \" \" ))]/text()').extract_first()\n",
    "    Candidate_Name.append(name.strip())\n",
    "    title = sel.xpath('//*[contains(concat( \" \", @class, \" \" ), concat( \" \", \"text-body-medium\", \" \" ))]/text()').extract_first()\n",
    "    Job_Title.append(title.strip())\n",
    "    loc = sel.xpath('//*[contains(concat( \" \", @class, \" \" ), concat( \" \", \"t-black--light\", \" \" )) and contains(concat( \" \", @class, \" \" ), concat( \" \", \"break-words\", \" \" ))]/text()').extract_first()\n",
    "    Location.append(loc.strip())\n",
    "    about = (sel.xpath('//*[contains(concat( \" \", @class, \" \" ), concat( \" \", \"t-14\", \" \" ))]/text()').extract_first()) or 'NA'\n",
    "    Candidate_Profile.append(about.strip())\n",
    "\n",
    "#print(Candidate_Name)\n",
    "#print(Job_Title)\n",
    "#print(Location)\n",
    "#print(Candidate_Profile)"
   ]
  },
  {
   "cell_type": "code",
   "execution_count": 13,
   "metadata": {},
   "outputs": [],
   "source": [
    "#Create a dictionary of scraped values\n",
    "data = {'Candidate_Name': Candidate_Name, 'Role': Job_Title, 'Location': Location, 'LinkedIn_URL': linkedin_urls, 'Profile': Candidate_Profile}"
   ]
  },
  {
   "cell_type": "code",
   "execution_count": 14,
   "metadata": {},
   "outputs": [
    {
     "data": {
      "text/html": [
       "<div>\n",
       "<style scoped>\n",
       "    .dataframe tbody tr th:only-of-type {\n",
       "        vertical-align: middle;\n",
       "    }\n",
       "\n",
       "    .dataframe tbody tr th {\n",
       "        vertical-align: top;\n",
       "    }\n",
       "\n",
       "    .dataframe thead th {\n",
       "        text-align: right;\n",
       "    }\n",
       "</style>\n",
       "<table border=\"1\" class=\"dataframe\">\n",
       "  <thead>\n",
       "    <tr style=\"text-align: right;\">\n",
       "      <th></th>\n",
       "      <th>Candidate_Name</th>\n",
       "      <th>Role</th>\n",
       "      <th>Location</th>\n",
       "      <th>LinkedIn_URL</th>\n",
       "      <th>Profile</th>\n",
       "    </tr>\n",
       "  </thead>\n",
       "  <tbody>\n",
       "    <tr>\n",
       "      <th>0</th>\n",
       "      <td>Abin Abraham - Python Developer /AngularJS/Rea...</td>\n",
       "      <td>Team Lead and Python Lead Developer / ReactJS ...</td>\n",
       "      <td>Ernakulam, Kerala, India</td>\n",
       "      <td>https://in.linkedin.com/in/abinabrahamcs</td>\n",
       "      <td>NA</td>\n",
       "    </tr>\n",
       "    <tr>\n",
       "      <th>1</th>\n",
       "      <td>Rahul Telgote</td>\n",
       "      <td>Software Developer@JP Morgan &amp; Chase</td>\n",
       "      <td>Bangalore Urban, Karnataka, India</td>\n",
       "      <td>https://in.linkedin.com/in/rahul-telgote-81812851</td>\n",
       "      <td>NA</td>\n",
       "    </tr>\n",
       "    <tr>\n",
       "      <th>2</th>\n",
       "      <td>Sandeep Sawant</td>\n",
       "      <td>Python Developer</td>\n",
       "      <td>Mumbai, Maharashtra, India</td>\n",
       "      <td>https://in.linkedin.com/in/sandeepsawant22</td>\n",
       "      <td>NA</td>\n",
       "    </tr>\n",
       "    <tr>\n",
       "      <th>3</th>\n",
       "      <td>Chethan P</td>\n",
       "      <td>Python Developer at FIME</td>\n",
       "      <td>Bengaluru, Karnataka, India</td>\n",
       "      <td>https://in.linkedin.com/in/chethan-p-418a981ba</td>\n",
       "      <td>NA</td>\n",
       "    </tr>\n",
       "    <tr>\n",
       "      <th>4</th>\n",
       "      <td>Giri Nath</td>\n",
       "      <td>Senior Software Engineer at IVL | InfoVision Labs</td>\n",
       "      <td>Hyderabad, Telangana, India</td>\n",
       "      <td>https://in.linkedin.com/in/girnathburri</td>\n",
       "      <td>NA</td>\n",
       "    </tr>\n",
       "    <tr>\n",
       "      <th>5</th>\n",
       "      <td>Satya Narayan Pardhi</td>\n",
       "      <td>Python Developer at Sony</td>\n",
       "      <td>Bangalore Urban, Karnataka, India</td>\n",
       "      <td>https://in.linkedin.com/in/satya-narayan-pardh...</td>\n",
       "      <td>NA</td>\n",
       "    </tr>\n",
       "    <tr>\n",
       "      <th>6</th>\n",
       "      <td>NAVEEN KUMAR D</td>\n",
       "      <td>Python Developer at SAP Labs India</td>\n",
       "      <td>Bangalore Urban, Karnataka, India</td>\n",
       "      <td>https://in.linkedin.com/in/naveen-kumar-d-1571...</td>\n",
       "      <td>NA</td>\n",
       "    </tr>\n",
       "    <tr>\n",
       "      <th>7</th>\n",
       "      <td>Chandan Urs</td>\n",
       "      <td>Python Developer at Deloitte India (Offices of...</td>\n",
       "      <td>Bangalore Urban, Karnataka, India</td>\n",
       "      <td>https://in.linkedin.com/in/chandan-urs-43922716a</td>\n",
       "      <td>NA</td>\n",
       "    </tr>\n",
       "    <tr>\n",
       "      <th>8</th>\n",
       "      <td>Vishal Ghuge</td>\n",
       "      <td>Python Developer</td>\n",
       "      <td>Pune, Maharashtra, India</td>\n",
       "      <td>https://in.linkedin.com/in/vishal-ghuge-4701b58b</td>\n",
       "      <td></td>\n",
       "    </tr>\n",
       "    <tr>\n",
       "      <th>9</th>\n",
       "      <td>Harshwardhan Shinde</td>\n",
       "      <td>Python Developer (Associate Consultant) | Capg...</td>\n",
       "      <td>Kolhapur, Maharashtra, India</td>\n",
       "      <td>https://in.linkedin.com/in/harshwardhan-shinde78</td>\n",
       "      <td>NA</td>\n",
       "    </tr>\n",
       "  </tbody>\n",
       "</table>\n",
       "</div>"
      ],
      "text/plain": [
       "                                      Candidate_Name  \\\n",
       "0  Abin Abraham - Python Developer /AngularJS/Rea...   \n",
       "1                                      Rahul Telgote   \n",
       "2                                     Sandeep Sawant   \n",
       "3                                          Chethan P   \n",
       "4                                          Giri Nath   \n",
       "5                               Satya Narayan Pardhi   \n",
       "6                                     NAVEEN KUMAR D   \n",
       "7                                        Chandan Urs   \n",
       "8                                       Vishal Ghuge   \n",
       "9                                Harshwardhan Shinde   \n",
       "\n",
       "                                                Role  \\\n",
       "0  Team Lead and Python Lead Developer / ReactJS ...   \n",
       "1               Software Developer@JP Morgan & Chase   \n",
       "2                                   Python Developer   \n",
       "3                           Python Developer at FIME   \n",
       "4  Senior Software Engineer at IVL | InfoVision Labs   \n",
       "5                           Python Developer at Sony   \n",
       "6                 Python Developer at SAP Labs India   \n",
       "7  Python Developer at Deloitte India (Offices of...   \n",
       "8                                   Python Developer   \n",
       "9  Python Developer (Associate Consultant) | Capg...   \n",
       "\n",
       "                            Location  \\\n",
       "0           Ernakulam, Kerala, India   \n",
       "1  Bangalore Urban, Karnataka, India   \n",
       "2         Mumbai, Maharashtra, India   \n",
       "3        Bengaluru, Karnataka, India   \n",
       "4        Hyderabad, Telangana, India   \n",
       "5  Bangalore Urban, Karnataka, India   \n",
       "6  Bangalore Urban, Karnataka, India   \n",
       "7  Bangalore Urban, Karnataka, India   \n",
       "8           Pune, Maharashtra, India   \n",
       "9       Kolhapur, Maharashtra, India   \n",
       "\n",
       "                                        LinkedIn_URL Profile  \n",
       "0           https://in.linkedin.com/in/abinabrahamcs      NA  \n",
       "1  https://in.linkedin.com/in/rahul-telgote-81812851      NA  \n",
       "2         https://in.linkedin.com/in/sandeepsawant22      NA  \n",
       "3     https://in.linkedin.com/in/chethan-p-418a981ba      NA  \n",
       "4            https://in.linkedin.com/in/girnathburri      NA  \n",
       "5  https://in.linkedin.com/in/satya-narayan-pardh...      NA  \n",
       "6  https://in.linkedin.com/in/naveen-kumar-d-1571...      NA  \n",
       "7   https://in.linkedin.com/in/chandan-urs-43922716a      NA  \n",
       "8   https://in.linkedin.com/in/vishal-ghuge-4701b58b          \n",
       "9   https://in.linkedin.com/in/harshwardhan-shinde78      NA  "
      ]
     },
     "execution_count": 14,
     "metadata": {},
     "output_type": "execute_result"
    }
   ],
   "source": [
    "#Convert the dictionary into a pandas dataframe\n",
    "df = pd.DataFrame(data)\n",
    "df"
   ]
  },
  {
   "cell_type": "code",
   "execution_count": 15,
   "metadata": {},
   "outputs": [],
   "source": [
    "#Export the data to a CSV file\n",
    "df.to_csv('linkedin_file.csv')"
   ]
  }
 ],
 "metadata": {
  "kernelspec": {
   "display_name": "Python 3",
   "language": "python",
   "name": "python3"
  },
  "language_info": {
   "codemirror_mode": {
    "name": "ipython",
    "version": 3
   },
   "file_extension": ".py",
   "mimetype": "text/x-python",
   "name": "python",
   "nbconvert_exporter": "python",
   "pygments_lexer": "ipython3",
   "version": "3.8.3"
  }
 },
 "nbformat": 4,
 "nbformat_minor": 4
}
