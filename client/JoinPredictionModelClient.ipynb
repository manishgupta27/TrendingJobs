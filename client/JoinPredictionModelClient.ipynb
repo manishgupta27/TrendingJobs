{
 "cells": [
  {
   "cell_type": "code",
   "execution_count": 5,
   "id": "continent-consensus",
   "metadata": {},
   "outputs": [
    {
     "name": "stdout",
     "output_type": "stream",
     "text": [
      "b'{\"Results\":{\"output1\":{\"type\":\"table\",\"value\":{\"ColumnNames\":[\"Skill\",\"Exp. Level\",\"Gender\",\"Hike %\",\"Offered CTC to Exp Ratio\",\"Source\",\"Status\",\"Scored Labels\",\"Scored Probabilities\"],\"ColumnTypes\":[\"String\",\"Double\",\"String\",\"String\",\"Double\",\"String\",\"String\",\"String\",\"Double\"],\"Values\":[[\"Java\",\"1.5\",\"Male\",\"20%\",\"1.2\",\"Job Portal\",null,\"Join\",\"0.0184314341572406\"],[\"Fullstack\",\"5.85\",\"Male\",\"54%\",\"3.16\",\"Job Portal\",null,\"Not-Join\",\"0.713627178310717\"]]}}}}'\n"
     ]
    }
   ],
   "source": [
    "import urllib\n",
    "import json \n",
    "\n",
    "data =  {\n",
    "        \"Inputs\": {\n",
    "                \"input1\":\n",
    "                {\n",
    "                    \"ColumnNames\": [\"Sr. No.\", \"Skill\", \"Job Title\", \"Exp. Level\", \"Designation Offered\", \"Gender\", \"Joining Date\", \"Current CTC\", \"Salary Offered\", \"Hike %\", \"Offered CTC to Exp Ratio\", \"Source\", \"Status\"],\n",
    "                    \"Values\": [ [ \"1\", \"Java\", \"\", \"1.5\", \"\", \"Male\", \"\", \"\", \"\", \"20%\", \"1.2\", \"Job Portal\",\"\" ],\n",
    "                              [ \"2\", \"Fullstack\", \"\", \"5.85\", \"\", \"Male\", \"\", \"\", \"\", \"54%\", \"3.16\", \"Job Portal\",\"\" ] ]\n",
    "                },        },\n",
    "            \"GlobalParameters\": {\n",
    "        }\n",
    "    }\n",
    "\n",
    "body = str.encode(json.dumps(data))\n",
    "\n",
    "url = 'https://ussouthcentral.services.azureml.net/workspaces/4faa66cc1c004922b449d1b1e3880580/services/fce6cd12e0694ad3ae5c42cf316d71f7/execute?api-version=2.0&details=true'\n",
    "api_key = 'ataryBB3vIHsYa1HBTEteM8iLM0YelTjG9lmMm/w6cISbVgvxGZfu1MqXLhMOkjNN5K8+CXklfDtN64e2sSEsA==' # Replace this with the API key for the web service\n",
    "headers = {'Content-Type':'application/json', 'Authorization':('Bearer '+ api_key)}\n",
    "\n",
    "req = urllib.request.Request(url, body, headers) \n",
    "\n",
    "try:\n",
    "    response = urllib.request.urlopen(req)\n",
    "    result = response.read()\n",
    "    print(result) \n",
    "except urllib.error.HTTPError as error:\n",
    "    print(\"The request failed with status code: \" + str(error.code))\n",
    "\n",
    "    # Print the headers - they include the requert ID and the timestamp, which are useful for debugging the failure\n",
    "    print(error.info())\n",
    "    print(json.loads(error.read()))                 "
   ]
  },
  {
   "cell_type": "code",
   "execution_count": null,
   "id": "universal-rover",
   "metadata": {},
   "outputs": [],
   "source": []
  }
 ],
 "metadata": {
  "kernelspec": {
   "display_name": "Python 3",
   "language": "python",
   "name": "python3"
  },
  "language_info": {
   "codemirror_mode": {
    "name": "ipython",
    "version": 3
   },
   "file_extension": ".py",
   "mimetype": "text/x-python",
   "name": "python",
   "nbconvert_exporter": "python",
   "pygments_lexer": "ipython3",
   "version": "3.7.9"
  }
 },
 "nbformat": 4,
 "nbformat_minor": 5
}
